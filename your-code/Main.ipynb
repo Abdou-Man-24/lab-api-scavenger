{
 "cells": [
  {
   "cell_type": "code",
   "execution_count": 3,
   "metadata": {},
   "outputs": [],
   "source": [
    "import requests\n",
    "import json\n",
    "import pandas as pd\n",
    "from requests.auth import HTTPBasicAuth\n",
    "from pandas.io.json import json_normalize\n"
   ]
  },
  {
   "cell_type": "code",
   "execution_count": 4,
   "metadata": {},
   "outputs": [
    {
     "data": {
      "text/plain": [
       "[None, 'Jupyter Notebook']"
      ]
     },
     "execution_count": 4,
     "metadata": {},
     "output_type": "execute_result"
    }
   ],
   "source": [
    "url = 'https://api.github.com/repos/ironhack-datalabs/datalis0819/forks'\n",
    "response = requests.get(url,auth = HTTPBasicAuth('Abdou-Man-24', 'token'))\n",
    "results = response.json()\n",
    "results\n",
    "\n",
    "language=[]\n",
    "\n",
    "for x in results:\n",
    "    if x['language'] in language:\n",
    "        continue\n",
    "    else:\n",
    "        language.append(x['language'])\n",
    "        \n",
    "language"
   ]
  },
  {
   "cell_type": "code",
   "execution_count": 5,
   "metadata": {},
   "outputs": [
    {
     "data": {
      "text/plain": [
       "array([None, 'Jupyter Notebook'], dtype=object)"
      ]
     },
     "execution_count": 5,
     "metadata": {},
     "output_type": "execute_result"
    }
   ],
   "source": [
    "flattened_data = pd.json_normalize(results)\n",
    "flattened_data['language'].unique()"
   ]
  },
  {
   "cell_type": "code",
   "execution_count": 12,
   "metadata": {},
   "outputs": [
    {
     "data": {
      "text/plain": [
       "[{'sha': '40ea46495ebd87dcebb721edcfa077ea76b3a28b',\n",
       "  'node_id': 'MDY6Q29tbWl0MzA4ODg2NzUxOjQwZWE0NjQ5NWViZDg3ZGNlYmI3MjFlZGNmYTA3N2VhNzZiM2EyOGI=',\n",
       "  'commit': {'author': {'name': 'Abdou-Man-24',\n",
       "    'email': '72160783+Abdou-Man-24@users.noreply.github.com',\n",
       "    'date': '2020-11-21T18:06:17Z'},\n",
       "   'committer': {'name': 'Abdou-Man-24',\n",
       "    'email': '72160783+Abdou-Man-24@users.noreply.github.com',\n",
       "    'date': '2020-11-21T18:06:17Z'},\n",
       "   'message': 'solved_lab_data_cleaning',\n",
       "   'tree': {'sha': '43c7c2b6ae6870a530c76b1792bd95a81f9344f0',\n",
       "    'url': 'https://api.github.com/repos/Abdou-Man-24/lab-data-cleaning/git/trees/43c7c2b6ae6870a530c76b1792bd95a81f9344f0'},\n",
       "   'url': 'https://api.github.com/repos/Abdou-Man-24/lab-data-cleaning/git/commits/40ea46495ebd87dcebb721edcfa077ea76b3a28b',\n",
       "   'comment_count': 0,\n",
       "   'verification': {'verified': False,\n",
       "    'reason': 'unsigned',\n",
       "    'signature': None,\n",
       "    'payload': None}},\n",
       "  'url': 'https://api.github.com/repos/Abdou-Man-24/lab-data-cleaning/commits/40ea46495ebd87dcebb721edcfa077ea76b3a28b',\n",
       "  'html_url': 'https://github.com/Abdou-Man-24/lab-data-cleaning/commit/40ea46495ebd87dcebb721edcfa077ea76b3a28b',\n",
       "  'comments_url': 'https://api.github.com/repos/Abdou-Man-24/lab-data-cleaning/commits/40ea46495ebd87dcebb721edcfa077ea76b3a28b/comments',\n",
       "  'author': {'login': 'Abdou-Man-24',\n",
       "   'id': 72160783,\n",
       "   'node_id': 'MDQ6VXNlcjcyMTYwNzgz',\n",
       "   'avatar_url': 'https://avatars1.githubusercontent.com/u/72160783?v=4',\n",
       "   'gravatar_id': '',\n",
       "   'url': 'https://api.github.com/users/Abdou-Man-24',\n",
       "   'html_url': 'https://github.com/Abdou-Man-24',\n",
       "   'followers_url': 'https://api.github.com/users/Abdou-Man-24/followers',\n",
       "   'following_url': 'https://api.github.com/users/Abdou-Man-24/following{/other_user}',\n",
       "   'gists_url': 'https://api.github.com/users/Abdou-Man-24/gists{/gist_id}',\n",
       "   'starred_url': 'https://api.github.com/users/Abdou-Man-24/starred{/owner}{/repo}',\n",
       "   'subscriptions_url': 'https://api.github.com/users/Abdou-Man-24/subscriptions',\n",
       "   'organizations_url': 'https://api.github.com/users/Abdou-Man-24/orgs',\n",
       "   'repos_url': 'https://api.github.com/users/Abdou-Man-24/repos',\n",
       "   'events_url': 'https://api.github.com/users/Abdou-Man-24/events{/privacy}',\n",
       "   'received_events_url': 'https://api.github.com/users/Abdou-Man-24/received_events',\n",
       "   'type': 'User',\n",
       "   'site_admin': False},\n",
       "  'committer': {'login': 'Abdou-Man-24',\n",
       "   'id': 72160783,\n",
       "   'node_id': 'MDQ6VXNlcjcyMTYwNzgz',\n",
       "   'avatar_url': 'https://avatars1.githubusercontent.com/u/72160783?v=4',\n",
       "   'gravatar_id': '',\n",
       "   'url': 'https://api.github.com/users/Abdou-Man-24',\n",
       "   'html_url': 'https://github.com/Abdou-Man-24',\n",
       "   'followers_url': 'https://api.github.com/users/Abdou-Man-24/followers',\n",
       "   'following_url': 'https://api.github.com/users/Abdou-Man-24/following{/other_user}',\n",
       "   'gists_url': 'https://api.github.com/users/Abdou-Man-24/gists{/gist_id}',\n",
       "   'starred_url': 'https://api.github.com/users/Abdou-Man-24/starred{/owner}{/repo}',\n",
       "   'subscriptions_url': 'https://api.github.com/users/Abdou-Man-24/subscriptions',\n",
       "   'organizations_url': 'https://api.github.com/users/Abdou-Man-24/orgs',\n",
       "   'repos_url': 'https://api.github.com/users/Abdou-Man-24/repos',\n",
       "   'events_url': 'https://api.github.com/users/Abdou-Man-24/events{/privacy}',\n",
       "   'received_events_url': 'https://api.github.com/users/Abdou-Man-24/received_events',\n",
       "   'type': 'User',\n",
       "   'site_admin': False},\n",
       "  'parents': [{'sha': '297f45cf235cef3b9096abbde9ba18c47efd4129',\n",
       "    'url': 'https://api.github.com/repos/Abdou-Man-24/lab-data-cleaning/commits/297f45cf235cef3b9096abbde9ba18c47efd4129',\n",
       "    'html_url': 'https://github.com/Abdou-Man-24/lab-data-cleaning/commit/297f45cf235cef3b9096abbde9ba18c47efd4129'}]}]"
      ]
     },
     "execution_count": 12,
     "metadata": {},
     "output_type": "execute_result"
    }
   ],
   "source": [
    "url = 'https://api.github.com/repos/Abdou-Man-24/lab-data-cleaning/commits?state=all&since=2020-10-01'\n",
    "response = requests.get(url,auth = HTTPBasicAuth('Abdou-Man-24', 'token'))\n",
    "results = response.json()\n",
    "results"
   ]
  },
  {
   "cell_type": "code",
   "execution_count": 13,
   "metadata": {},
   "outputs": [
    {
     "data": {
      "text/html": [
       "<div>\n",
       "<style scoped>\n",
       "    .dataframe tbody tr th:only-of-type {\n",
       "        vertical-align: middle;\n",
       "    }\n",
       "\n",
       "    .dataframe tbody tr th {\n",
       "        vertical-align: top;\n",
       "    }\n",
       "\n",
       "    .dataframe thead th {\n",
       "        text-align: right;\n",
       "    }\n",
       "</style>\n",
       "<table border=\"1\" class=\"dataframe\">\n",
       "  <thead>\n",
       "    <tr style=\"text-align: right;\">\n",
       "      <th></th>\n",
       "      <th>sha</th>\n",
       "      <th>node_id</th>\n",
       "      <th>url</th>\n",
       "      <th>html_url</th>\n",
       "      <th>comments_url</th>\n",
       "      <th>parents</th>\n",
       "      <th>commit.author.name</th>\n",
       "      <th>commit.author.email</th>\n",
       "      <th>commit.author.date</th>\n",
       "      <th>commit.committer.name</th>\n",
       "      <th>...</th>\n",
       "      <th>committer.following_url</th>\n",
       "      <th>committer.gists_url</th>\n",
       "      <th>committer.starred_url</th>\n",
       "      <th>committer.subscriptions_url</th>\n",
       "      <th>committer.organizations_url</th>\n",
       "      <th>committer.repos_url</th>\n",
       "      <th>committer.events_url</th>\n",
       "      <th>committer.received_events_url</th>\n",
       "      <th>committer.type</th>\n",
       "      <th>committer.site_admin</th>\n",
       "    </tr>\n",
       "  </thead>\n",
       "  <tbody>\n",
       "    <tr>\n",
       "      <th>0</th>\n",
       "      <td>40ea46495ebd87dcebb721edcfa077ea76b3a28b</td>\n",
       "      <td>MDY6Q29tbWl0MzA4ODg2NzUxOjQwZWE0NjQ5NWViZDg3ZG...</td>\n",
       "      <td>https://api.github.com/repos/Abdou-Man-24/lab-...</td>\n",
       "      <td>https://github.com/Abdou-Man-24/lab-data-clean...</td>\n",
       "      <td>https://api.github.com/repos/Abdou-Man-24/lab-...</td>\n",
       "      <td>[{'sha': '297f45cf235cef3b9096abbde9ba18c47efd...</td>\n",
       "      <td>Abdou-Man-24</td>\n",
       "      <td>72160783+Abdou-Man-24@users.noreply.github.com</td>\n",
       "      <td>2020-11-21T18:06:17Z</td>\n",
       "      <td>Abdou-Man-24</td>\n",
       "      <td>...</td>\n",
       "      <td>https://api.github.com/users/Abdou-Man-24/foll...</td>\n",
       "      <td>https://api.github.com/users/Abdou-Man-24/gist...</td>\n",
       "      <td>https://api.github.com/users/Abdou-Man-24/star...</td>\n",
       "      <td>https://api.github.com/users/Abdou-Man-24/subs...</td>\n",
       "      <td>https://api.github.com/users/Abdou-Man-24/orgs</td>\n",
       "      <td>https://api.github.com/users/Abdou-Man-24/repos</td>\n",
       "      <td>https://api.github.com/users/Abdou-Man-24/even...</td>\n",
       "      <td>https://api.github.com/users/Abdou-Man-24/rece...</td>\n",
       "      <td>User</td>\n",
       "      <td>False</td>\n",
       "    </tr>\n",
       "  </tbody>\n",
       "</table>\n",
       "<p>1 rows × 57 columns</p>\n",
       "</div>"
      ],
      "text/plain": [
       "                                        sha  \\\n",
       "0  40ea46495ebd87dcebb721edcfa077ea76b3a28b   \n",
       "\n",
       "                                             node_id  \\\n",
       "0  MDY6Q29tbWl0MzA4ODg2NzUxOjQwZWE0NjQ5NWViZDg3ZG...   \n",
       "\n",
       "                                                 url  \\\n",
       "0  https://api.github.com/repos/Abdou-Man-24/lab-...   \n",
       "\n",
       "                                            html_url  \\\n",
       "0  https://github.com/Abdou-Man-24/lab-data-clean...   \n",
       "\n",
       "                                        comments_url  \\\n",
       "0  https://api.github.com/repos/Abdou-Man-24/lab-...   \n",
       "\n",
       "                                             parents commit.author.name  \\\n",
       "0  [{'sha': '297f45cf235cef3b9096abbde9ba18c47efd...       Abdou-Man-24   \n",
       "\n",
       "                              commit.author.email    commit.author.date  \\\n",
       "0  72160783+Abdou-Man-24@users.noreply.github.com  2020-11-21T18:06:17Z   \n",
       "\n",
       "  commit.committer.name  ...  \\\n",
       "0          Abdou-Man-24  ...   \n",
       "\n",
       "                             committer.following_url  \\\n",
       "0  https://api.github.com/users/Abdou-Man-24/foll...   \n",
       "\n",
       "                                 committer.gists_url  \\\n",
       "0  https://api.github.com/users/Abdou-Man-24/gist...   \n",
       "\n",
       "                               committer.starred_url  \\\n",
       "0  https://api.github.com/users/Abdou-Man-24/star...   \n",
       "\n",
       "                         committer.subscriptions_url  \\\n",
       "0  https://api.github.com/users/Abdou-Man-24/subs...   \n",
       "\n",
       "                      committer.organizations_url  \\\n",
       "0  https://api.github.com/users/Abdou-Man-24/orgs   \n",
       "\n",
       "                               committer.repos_url  \\\n",
       "0  https://api.github.com/users/Abdou-Man-24/repos   \n",
       "\n",
       "                                committer.events_url  \\\n",
       "0  https://api.github.com/users/Abdou-Man-24/even...   \n",
       "\n",
       "                       committer.received_events_url committer.type  \\\n",
       "0  https://api.github.com/users/Abdou-Man-24/rece...           User   \n",
       "\n",
       "  committer.site_admin  \n",
       "0                False  \n",
       "\n",
       "[1 rows x 57 columns]"
      ]
     },
     "execution_count": 13,
     "metadata": {},
     "output_type": "execute_result"
    }
   ],
   "source": [
    "flattened_data = pd.json_normalize(results)\n",
    "flattened_data"
   ]
  }
 ],
 "metadata": {
  "kernelspec": {
   "display_name": "Python 3",
   "language": "python",
   "name": "python3"
  },
  "language_info": {
   "codemirror_mode": {
    "name": "ipython",
    "version": 3
   },
   "file_extension": ".py",
   "mimetype": "text/x-python",
   "name": "python",
   "nbconvert_exporter": "python",
   "pygments_lexer": "ipython3",
   "version": "3.8.3"
  }
 },
 "nbformat": 4,
 "nbformat_minor": 4
}
